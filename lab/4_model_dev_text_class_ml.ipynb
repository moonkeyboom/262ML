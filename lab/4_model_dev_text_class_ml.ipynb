{
 "cells": [
  {
   "cell_type": "code",
   "execution_count": 46,
   "metadata": {},
   "outputs": [
    {
     "data": {
      "text/html": [
       "<div>\n",
       "<style scoped>\n",
       "    .dataframe tbody tr th:only-of-type {\n",
       "        vertical-align: middle;\n",
       "    }\n",
       "\n",
       "    .dataframe tbody tr th {\n",
       "        vertical-align: top;\n",
       "    }\n",
       "\n",
       "    .dataframe thead th {\n",
       "        text-align: right;\n",
       "    }\n",
       "</style>\n",
       "<table border=\"1\" class=\"dataframe\">\n",
       "  <thead>\n",
       "    <tr style=\"text-align: right;\">\n",
       "      <th></th>\n",
       "      <th>text</th>\n",
       "      <th>category</th>\n",
       "      <th>region</th>\n",
       "      <th>organization</th>\n",
       "    </tr>\n",
       "  </thead>\n",
       "  <tbody>\n",
       "    <tr>\n",
       "      <th>0</th>\n",
       "      <td>ขอหน่วยงานที่เกี่ยวข้องวางท่อส่งน้ำสำหรับขยายเ...</td>\n",
       "      <td>น้ำ</td>\n",
       "      <td>สระบุรี</td>\n",
       "      <td>สปน.</td>\n",
       "    </tr>\n",
       "    <tr>\n",
       "      <th>1</th>\n",
       "      <td>ขอให้หน่วยงานที่เกี่ยวข้องดำเนินการแก้ไขปัญหาร...</td>\n",
       "      <td>อื่น ๆ</td>\n",
       "      <td>ทุกภูมิภาค</td>\n",
       "      <td>กต.</td>\n",
       "    </tr>\n",
       "    <tr>\n",
       "      <th>2</th>\n",
       "      <td>ขอให้ช่วยเหลือเยียวยาประชาชนที่ได้รับผลกระทบจา...</td>\n",
       "      <td>สาธารณภัย</td>\n",
       "      <td>สุพรรณบุรี</td>\n",
       "      <td>กษ.</td>\n",
       "    </tr>\n",
       "    <tr>\n",
       "      <th>3</th>\n",
       "      <td>ขอให้รัฐบาลทบทวนการแก้ไขปัญหาประชาคมกระเหรี่ยง...</td>\n",
       "      <td>ที่ดินทำกิน</td>\n",
       "      <td>เพชรบุรี</td>\n",
       "      <td>ทส.</td>\n",
       "    </tr>\n",
       "    <tr>\n",
       "      <th>4</th>\n",
       "      <td>ขอให้พิจารณาดำเนินการแก้ไขปัญหาการลักลอบเล่นพน...</td>\n",
       "      <td>อาชญากรรม ยาเสพติดและการพนัน</td>\n",
       "      <td>กรุงเทพมหานคร</td>\n",
       "      <td>ตร.</td>\n",
       "    </tr>\n",
       "    <tr>\n",
       "      <th>...</th>\n",
       "      <td>...</td>\n",
       "      <td>...</td>\n",
       "      <td>...</td>\n",
       "      <td>...</td>\n",
       "    </tr>\n",
       "    <tr>\n",
       "      <th>1952</th>\n",
       "      <td>ขอให้พิจารณากำกับดูแลและเร่งดำเนินการจัดทำร่าง...</td>\n",
       "      <td>การเมือง</td>\n",
       "      <td>ทุกภูมิภาค</td>\n",
       "      <td>สลค.</td>\n",
       "    </tr>\n",
       "    <tr>\n",
       "      <th>1953</th>\n",
       "      <td>ขอให้หน่วยงานที่เกี่ยวข้องบูรณาการการทำงานร่วม...</td>\n",
       "      <td>สวัสดิการ</td>\n",
       "      <td>ทุกภูมิภาค</td>\n",
       "      <td>กต.</td>\n",
       "    </tr>\n",
       "    <tr>\n",
       "      <th>1954</th>\n",
       "      <td>ขอให้หน่วยงานที่เกี่ยวข้องดำเนินการฟื้นฟูเศรษฐ...</td>\n",
       "      <td>เศรษฐกิจ การคลัง</td>\n",
       "      <td>ภาคตะวันออก</td>\n",
       "      <td>คค.</td>\n",
       "    </tr>\n",
       "    <tr>\n",
       "      <th>1955</th>\n",
       "      <td>ขอความอนุเคราะห์ให้จัดระบบประปาหมู่บ้าน ม.6 บ้...</td>\n",
       "      <td>น้ำ</td>\n",
       "      <td>เชียงใหม่</td>\n",
       "      <td>มท.</td>\n",
       "    </tr>\n",
       "    <tr>\n",
       "      <th>1956</th>\n",
       "      <td>ขอให้รัฐบาลทบทวนการแก้ไขปัญหาประชาคมกระเหรี่ยง...</td>\n",
       "      <td>ที่ดินทำกิน</td>\n",
       "      <td>เพชรบุรี</td>\n",
       "      <td>ทส.</td>\n",
       "    </tr>\n",
       "  </tbody>\n",
       "</table>\n",
       "<p>1957 rows × 4 columns</p>\n",
       "</div>"
      ],
      "text/plain": [
       "                                                   text  \\\n",
       "0     ขอหน่วยงานที่เกี่ยวข้องวางท่อส่งน้ำสำหรับขยายเ...   \n",
       "1     ขอให้หน่วยงานที่เกี่ยวข้องดำเนินการแก้ไขปัญหาร...   \n",
       "2     ขอให้ช่วยเหลือเยียวยาประชาชนที่ได้รับผลกระทบจา...   \n",
       "3     ขอให้รัฐบาลทบทวนการแก้ไขปัญหาประชาคมกระเหรี่ยง...   \n",
       "4     ขอให้พิจารณาดำเนินการแก้ไขปัญหาการลักลอบเล่นพน...   \n",
       "...                                                 ...   \n",
       "1952  ขอให้พิจารณากำกับดูแลและเร่งดำเนินการจัดทำร่าง...   \n",
       "1953  ขอให้หน่วยงานที่เกี่ยวข้องบูรณาการการทำงานร่วม...   \n",
       "1954  ขอให้หน่วยงานที่เกี่ยวข้องดำเนินการฟื้นฟูเศรษฐ...   \n",
       "1955  ขอความอนุเคราะห์ให้จัดระบบประปาหมู่บ้าน ม.6 บ้...   \n",
       "1956  ขอให้รัฐบาลทบทวนการแก้ไขปัญหาประชาคมกระเหรี่ยง...   \n",
       "\n",
       "                          category         region organization  \n",
       "0                              น้ำ        สระบุรี         สปน.  \n",
       "1                           อื่น ๆ     ทุกภูมิภาค          กต.  \n",
       "2                        สาธารณภัย     สุพรรณบุรี          กษ.  \n",
       "3                      ที่ดินทำกิน       เพชรบุรี          ทส.  \n",
       "4     อาชญากรรม ยาเสพติดและการพนัน  กรุงเทพมหานคร          ตร.  \n",
       "...                            ...            ...          ...  \n",
       "1952                      การเมือง     ทุกภูมิภาค         สลค.  \n",
       "1953                     สวัสดิการ     ทุกภูมิภาค          กต.  \n",
       "1954              เศรษฐกิจ การคลัง    ภาคตะวันออก          คค.  \n",
       "1955                           น้ำ      เชียงใหม่          มท.  \n",
       "1956                   ที่ดินทำกิน       เพชรบุรี          ทส.  \n",
       "\n",
       "[1957 rows x 4 columns]"
      ]
     },
     "execution_count": 46,
     "metadata": {},
     "output_type": "execute_result"
    }
   ],
   "source": [
    "import pandas as pd\n",
    "\n",
    "columns = [\"ประเด็นที่ร้องเรียน\", \"หมวดหมู่ปัญหา (เลือก)\", \"พื้นที่ / ภูมิภาค\", \"หน่วยงาน\\nที่เกี่ยวข้อง\"]\n",
    "data = pd.read_excel(\"complaints.xlsx\", usecols=columns)\n",
    "data.columns = [\"text\", \"category\", \"region\", \"organization\"]\n",
    "data = data.dropna() # เอา missing value ออก\n",
    "data = data.reset_index(drop=True)\n",
    "data"
   ]
  },
  {
   "cell_type": "code",
   "execution_count": 47,
   "metadata": {},
   "outputs": [
    {
     "data": {
      "text/plain": [
       "(1369, 588)"
      ]
     },
     "execution_count": 47,
     "metadata": {},
     "output_type": "execute_result"
    }
   ],
   "source": [
    "from sklearn.model_selection import train_test_split\n",
    "\n",
    "train_data, test_data = train_test_split(data, test_size=0.3, stratify=data[\"category\"], random_state=0) # 🤔\n",
    "train_data.shape[0], test_data.shape[0]"
   ]
  },
  {
   "cell_type": "code",
   "execution_count": 48,
   "metadata": {},
   "outputs": [
    {
     "name": "stdout",
     "output_type": "stream",
     "text": [
      "Requirement already satisfied: newmm_tokenizer in d:\\mook\\262_ml\\lab\\.venv\\lib\\site-packages (0.2.2)\n",
      "Note: you may need to restart the kernel to use updated packages.\n"
     ]
    },
    {
     "name": "stderr",
     "output_type": "stream",
     "text": [
      "\n",
      "[notice] A new release of pip is available: 24.1.1 -> 24.1.2\n",
      "[notice] To update, run: python.exe -m pip install --upgrade pip\n"
     ]
    }
   ],
   "source": [
    "%pip install newmm_tokenizer"
   ]
  },
  {
   "cell_type": "code",
   "execution_count": 49,
   "metadata": {},
   "outputs": [
    {
     "name": "stderr",
     "output_type": "stream",
     "text": [
      "d:\\Mook\\262_ML\\lab\\.venv\\lib\\site-packages\\sklearn\\feature_extraction\\text.py:521: UserWarning: The parameter 'token_pattern' will not be used since 'tokenizer' is not None'\n",
      "  warnings.warn(\n"
     ]
    },
    {
     "data": {
      "text/plain": [
       "0.7355734112490869"
      ]
     },
     "execution_count": 49,
     "metadata": {},
     "output_type": "execute_result"
    }
   ],
   "source": [
    "from sklearn.pipeline import make_pipeline\n",
    "from sklearn.feature_extraction.text import CountVectorizer, TfidfVectorizer\n",
    "from sklearn.feature_selection import SelectKBest\n",
    "from sklearn.naive_bayes import MultinomialNB\n",
    "from sklearn.linear_model import LogisticRegression\n",
    "from sklearn.ensemble import AdaBoostClassifier, RandomForestClassifier\n",
    "from newmm_tokenizer.tokenizer import word_tokenize\n",
    "\n",
    "def create_pipeline():\n",
    "    return make_pipeline(\n",
    "        # CountVectorizer(), # 🤔\n",
    "        # TfidfVectorizer(), # 🤔\n",
    "        # TfidfVectorizer(ngram_range=(1, 3), min_df=5, max_df=0.5), # 🤔\n",
    "        CountVectorizer(tokenizer=word_tokenize), # 🤔 แยกคำออกเป็น column\n",
    "        # TfidfVectorizer(tokenizer=word_tokenize, ngram_range=(1, 3), min_df=5, max_df=0.5), # 🤔\n",
    "\n",
    "        # SelectKBest(k=1000), # 🤔 เอา 1000 features ที่ดีที่สุดมาใช้\n",
    "        \n",
    "        MultinomialNB()\n",
    "        # AdaBoostClassifier(estimator=LogisticRegression(), n_estimators=10, random_state=0) # 🤔\n",
    "        # RandomForestClassifier(n_estimators=10, random_state=0) # 🤔\n",
    "    )\n",
    "\n",
    "pipeline = create_pipeline()\n",
    "pipeline.fit(train_data[\"text\"], train_data[\"category\"])\n",
    "pipeline.score(train_data[\"text\"], train_data[\"category\"])"
   ]
  },
  {
   "cell_type": "code",
   "execution_count": 50,
   "metadata": {},
   "outputs": [
    {
     "data": {
      "text/plain": [
       "5730"
      ]
     },
     "execution_count": 50,
     "metadata": {},
     "output_type": "execute_result"
    }
   ],
   "source": [
    "pipeline.steps[-1][1].n_features_in_"
   ]
  },
  {
   "cell_type": "code",
   "execution_count": 51,
   "metadata": {},
   "outputs": [
    {
     "data": {
      "text/plain": [
       "0.5153061224489796"
      ]
     },
     "execution_count": 51,
     "metadata": {},
     "output_type": "execute_result"
    }
   ],
   "source": [
    "pipeline.score(test_data[\"text\"], test_data[\"category\"])"
   ]
  },
  {
   "cell_type": "code",
   "execution_count": 72,
   "metadata": {},
   "outputs": [
    {
     "data": {
      "text/plain": [
       "np.str_('สาธารณภัย')"
      ]
     },
     "execution_count": 72,
     "metadata": {},
     "output_type": "execute_result"
    }
   ],
   "source": [
    "pipeline.predict([\"น้ำท่วม\"])[0]   # ทายว่าเป็น column ไหน"
   ]
  },
  {
   "cell_type": "code",
   "execution_count": 53,
   "metadata": {},
   "outputs": [
    {
     "data": {
      "text/plain": [
       "np.str_('โครงสร้างพื้นฐานและสาธารณูปโภค')"
      ]
     },
     "execution_count": 53,
     "metadata": {},
     "output_type": "execute_result"
    }
   ],
   "source": [
    "pipeline.predict([\"ถนนทรุด\"])[0]"
   ]
  },
  {
   "cell_type": "code",
   "execution_count": 57,
   "metadata": {},
   "outputs": [
    {
     "data": {
      "text/plain": [
       "array([1.37341547e-03, 1.62997949e-04, 8.20843096e-02, 7.30108134e-04,\n",
       "       1.99776217e-03, 2.72194596e-02, 2.47787543e-03, 2.38529696e-03,\n",
       "       2.39528903e-03, 6.33314697e-03, 3.24298542e-03, 8.73826430e-04,\n",
       "       1.13739562e-02, 2.06691377e-02, 2.04958899e-03, 6.03198803e-03,\n",
       "       1.10578342e-03, 4.49198052e-03, 4.64284290e-04, 2.25705411e-02,\n",
       "       3.96800700e-03, 1.98016765e-01, 4.40140762e-03, 3.02502941e-03,\n",
       "       6.51061203e-03, 9.80854037e-03, 3.82935892e-02, 1.32516556e-03,\n",
       "       1.24960457e-03, 8.61928911e-03, 2.00292804e-03, 5.19330535e-01,\n",
       "       1.14580527e-03, 2.26898828e-03])"
      ]
     },
     "execution_count": 57,
     "metadata": {},
     "output_type": "execute_result"
    }
   ],
   "source": [
    "# แนะนำคำตอบ\n",
    "predicted = pipeline.predict_proba([\"ถนนทรุด\"])[0]\n",
    "predicted"
   ]
  },
  {
   "cell_type": "code",
   "execution_count": 55,
   "metadata": {},
   "outputs": [
    {
     "data": {
      "text/plain": [
       "OrderedDict([(np.str_('โครงสร้างพื้นฐานและสาธารณูปโภค'),\n",
       "              np.float64(0.5193305354915263)),\n",
       "             (np.str_('สาธารณภัย'), np.float64(0.1980167646618376)),\n",
       "             (np.str_('การคมนาคม การจราจรหรืออุบัติเหตุ'),\n",
       "              np.float64(0.08208430961517234)),\n",
       "             (np.str_('อื่น ๆ'), np.float64(0.03829358920736119)),\n",
       "             (np.str_('การบริหารราชการแผ่นดิน'),\n",
       "              np.float64(0.027219459595867055)),\n",
       "             (np.str_('ศิลปะ วัฒนธรรม ศาสนา'),\n",
       "              np.float64(0.022570541063418305)),\n",
       "             (np.str_('น้ำ'), np.float64(0.02066913766988561)),\n",
       "             (np.str_('ที่ดินทำกิน'), np.float64(0.011373956239822219)),\n",
       "             (np.str_('อาชญากรรม ยาเสพติดและการพนัน'),\n",
       "              np.float64(0.0098085403656902)),\n",
       "             (np.str_('เศรษฐกิจ การคลัง'), np.float64(0.008619289114140187)),\n",
       "             (np.str_('หนี้สิน เศรษฐกิจฐานราก'),\n",
       "              np.float64(0.006510612027674902)),\n",
       "             (np.str_('การเมือง'), np.float64(0.00633314697206917)),\n",
       "             (np.str_('ผู้มีอิทธิพล การทุจริตและประพฤติมิชอบ'),\n",
       "              np.float64(0.006031988027966285)),\n",
       "             (np.str_('ราคาสินค้าเกษตร'), np.float64(0.00449198052183372)),\n",
       "             (np.str_('สาธารณสุข'), np.float64(0.004401407616830301)),\n",
       "             (np.str_('สวัสดิการ'), np.float64(0.003968006995724535)),\n",
       "             (np.str_('ความมั่นคง'), np.float64(0.0032429854179133488)),\n",
       "             (np.str_('สิ่งแวดล้อม'), np.float64(0.0030250294090578157)),\n",
       "             (np.str_('การพาณิชย์'), np.float64(0.002477875428303222)),\n",
       "             (np.str_('การเกษตร'), np.float64(0.002395289027351299)),\n",
       "             (np.str_('การศึกษา'), np.float64(0.0023852969578250297)),\n",
       "             (np.str_('โรคระบาดพืชและสัตว์'),\n",
       "              np.float64(0.002268988283298069)),\n",
       "             (np.str_('ประมง'), np.float64(0.0020495889889750674)),\n",
       "             (np.str_('แรงงาน'), np.float64(0.0020029280374369582)),\n",
       "             (np.str_('การท่องเที่ยว'), np.float64(0.001997762170906884)),\n",
       "             (np.str_('กฎหมายและกระบวนการยุติธรรม'),\n",
       "              np.float64(0.0013734154671339559)),\n",
       "             (np.str_('อุตสาหกรรม'), np.float64(0.0013251655608022108)),\n",
       "             (np.str_('เทคโนโลยีและดิจิทัล'),\n",
       "              np.float64(0.0012496045708601333)),\n",
       "             (np.str_('โทรคมนาคมและการสื่อสาร'),\n",
       "              np.float64(0.0011458052690453897)),\n",
       "             (np.str_('พลังงาน'), np.float64(0.001105783421707426)),\n",
       "             (np.str_('ความหลากหลายทางสังคม'),\n",
       "              np.float64(0.0008738264296564171)),\n",
       "             (np.str_('การต่างประเทศ'), np.float64(0.0007301081335565042)),\n",
       "             (np.str_('วิจัย วิทยาศาสตร์ และนวัตกรรม'),\n",
       "              np.float64(0.00046428429019428215)),\n",
       "             (np.str_('การกีฬา'), np.float64(0.000162997949156043))])"
      ]
     },
     "execution_count": 55,
     "metadata": {},
     "output_type": "execute_result"
    }
   ],
   "source": [
    "from collections import OrderedDict\n",
    "\n",
    "OrderedDict(sorted(zip(pipeline.classes_, predicted), key=lambda x: x[1])[::-1])"
   ]
  }
 ],
 "metadata": {
  "kernelspec": {
   "display_name": "venv",
   "language": "python",
   "name": "python3"
  },
  "language_info": {
   "codemirror_mode": {
    "name": "ipython",
    "version": 3
   },
   "file_extension": ".py",
   "mimetype": "text/x-python",
   "name": "python",
   "nbconvert_exporter": "python",
   "pygments_lexer": "ipython3",
   "version": "3.10.11"
  }
 },
 "nbformat": 4,
 "nbformat_minor": 2
}
