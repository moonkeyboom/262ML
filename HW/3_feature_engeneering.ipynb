{
 "cells": [
  {
   "cell_type": "markdown",
   "metadata": {},
   "source": [
    "# Feature Engineering\n",
    "---\n"
   ]
  },
  {
   "cell_type": "markdown",
   "metadata": {},
   "source": [
    "### 1. รหัส ชื่อ และหมู่ของนิสิตในกลุ่ม\n",
    "+ 6610450960 นันท์นภัส ภูริภัทรพันธุ์ หมู่ 200    \n",
    "+ 6610450986 พชร พรมแพง หมู่ 200\n",
    "+ 6610451061 รตนกมล แก้วมาตย์ หมู่ 200"
   ]
  },
  {
   "cell_type": "markdown",
   "metadata": {},
   "source": [
    "### 2. วัตถุประสงค์ของระบบต้นแบบ\n",
    "เพื่อแยกรูปภาพว่าถูกสร้างจาก AI-generated หรือมนุษย์ \n",
    "\n",
    "เนื่องจากในระยะเวลาไม่กี่ปีที่ผ่านมา AI ได้เข้ามามีบทบาทมากขึ้นในการทำงานส่วนต่าง ๆ รวมถึงได้เกิด AI ที่สามารถสร้างภาพเสมือนจริงขึ้นมาได้ \n",
    "\n",
    "ส่งผลกระทบต่ออาชีพของศิลปินและนักออกแบบที่ใช้ทักษะมนุษย์ในการสร้างสรรค์งาน และการสร้างภาพเสมือนจริงโดยใช้ AI ยังก่อให้เกิดปัญหาข่าวลวงและข้อมูลเท็จ ทำให้สร้างความเข้าใจผิดต่อประชาชนได้ ซึ่งเป็นปัญหาสำคัญในปัจจุบัน เช่น ช่างภาพใช้ AI ผลิตภาพจนชนะการประกวดภาพถ่ายของมนุษย์ ข่าวลวงเรื่องสัตว์สายพันธุ์ใหม่ซึ่งเป็นภาพ AI-generated เป็นต้น\n",
    "\n",
    "ดังนั้นการมีระบบต้นแบบที่สามารถแยกรูปภาพ AI-generated หรือ ภาพที่มนุษย์สร้างขึ้นมา เป็นตัวช่วยในการตรวจสอบ และลดปัญหาเหล่านี้ให้น้อยลง\n"
   ]
  },
  {
   "cell_type": "markdown",
   "metadata": {},
   "source": [
    "### 3. ลิงค์ไปยังข้อมูลที่จะใช้ในระบบต้นแบบ\n",
    "https://www.kaggle.com/datasets/birdy654/cifake-real-and-ai-generated-synthetic-images"
   ]
  },
  {
   "cell_type": "markdown",
   "metadata": {},
   "source": [
    "### 4. มีค่าที่หายไป (missing values) หรือไม่ อะไรบ้าง แบบใด มากน้อยแค่ไหน แก้ไขได้อย่างไร (ถ้าเป็นรูปภาพ มีรูปที่ไม่ถูกต้องหรือสมบูรณ์หรือไม่ อย่างไร แก้ไขอย่างไร)\n"
   ]
  },
  {
   "cell_type": "markdown",
   "metadata": {},
   "source": [
    "เนื่องจากรูปภาพเปิดได้ทุกไฟล์ จึงไม่มี missing value"
   ]
  },
  {
   "cell_type": "code",
   "execution_count": 2,
   "metadata": {},
   "outputs": [
    {
     "name": "stdout",
     "output_type": "stream",
     "text": [
      "Corrupted files: []\n"
     ]
    }
   ],
   "source": [
    "import os\n",
    "from PIL import Image\n",
    "\n",
    "def check_images(directory, corrupted_files):\n",
    "    for filename in os.listdir(directory):\n",
    "        if filename.endswith('.jpg'):\n",
    "            try:\n",
    "                img = Image.open(os.path.join(directory, filename))\n",
    "                img.verify() \n",
    "            except (IOError, SyntaxError) as e:\n",
    "                corrupted_files.append(filename)\n",
    "    return corrupted_files\n",
    "\n",
    "corrupted_files = []\n",
    "\n",
    "corrupted_files = check_images('./train/REAL' ,corrupted_files)\n",
    "corrupted_files = check_images('./train/FAKE' ,corrupted_files)\n",
    "corrupted_files = check_images('./test/REAL' ,corrupted_files)\n",
    "corrupted_files = check_images('./test/FAKE' ,corrupted_files)\n",
    "\n",
    "print(f'Corrupted files: {corrupted_files}')"
   ]
  },
  {
   "cell_type": "markdown",
   "metadata": {},
   "source": [
    "### 5. แต่ละคุณลักษณะ/feature ต้องมีการทำกระบวนการต่างๆ (operations) หรือไม่ อะไรบ้าง อย่างไร (ถ้าเป็นรูปภาพ ต้องมีลักษณะอย่างไร เช่น ขนาด ความละเอียด รูปแบบไฟล์ ฯลฯ)\n"
   ]
  },
  {
   "cell_type": "markdown",
   "metadata": {},
   "source": [
    "ข้อมูลรูปภาพมีความละเอียด 32x32 pixel มีรูปแบบไฟล์เป็น jpg "
   ]
  },
  {
   "cell_type": "code",
   "execution_count": 9,
   "metadata": {},
   "outputs": [
    {
     "name": "stdout",
     "output_type": "stream",
     "text": [
      "Average size: 924.52 bytes (0.90 KB, 0.00 MB)\n",
      "Minimum size: 693.00 bytes (0.68 KB, 0.00 MB)\n",
      "Maximum size: 1187.00 bytes (1.16 KB, 0.00 MB)\n"
     ]
    }
   ],
   "source": [
    "import os\n",
    "\n",
    "def get_file_sizes(directory):\n",
    "    sizes = []\n",
    "\n",
    "    for filename in os.listdir(directory):\n",
    "        if filename.endswith('.jpg') or filename.endswith('.png'):\n",
    "            file_path = os.path.join(directory, filename)\n",
    "            file_size = os.path.getsize(file_path)\n",
    "            sizes.append(file_size)\n",
    "    \n",
    "    return sizes\n",
    "\n",
    "def calculate_statistics(sizes):\n",
    "    if not sizes:\n",
    "        return None, None, None, None\n",
    "\n",
    "    avg_size = sum(sizes) / len(sizes)\n",
    "    min_size = min(sizes)\n",
    "    max_size = max(sizes)\n",
    "\n",
    "    return avg_size, min_size, max_size\n",
    "\n",
    "directory = './train/FAKE'  # Change this to your directory path\n",
    "sizes = get_file_sizes(directory)\n",
    "avg_size, min_size, max_size = calculate_statistics(sizes)\n",
    "\n",
    "# Convert sizes to KB and MB for readability\n",
    "avg_size_kb = avg_size / 1024\n",
    "min_size_kb = min_size / 1024\n",
    "max_size_kb = max_size / 1024\n",
    "\n",
    "avg_size_mb = avg_size_kb / 1024\n",
    "min_size_mb = min_size_kb / 1024\n",
    "max_size_mb = max_size_kb / 1024\n",
    "\n",
    "print(f'Average size: {avg_size:.2f} bytes ({avg_size_kb:.2f} KB, {avg_size_mb:.2f} MB)')\n",
    "print(f'Minimum size: {min_size:.2f} bytes ({min_size_kb:.2f} KB, {min_size_mb:.2f} MB)')\n",
    "print(f'Maximum size: {max_size:.2f} bytes ({max_size_kb:.2f} KB, {max_size_mb:.2f} MB)')\n"
   ]
  },
  {
   "cell_type": "markdown",
   "metadata": {},
   "source": [
    "### 6. สำหรับปัญหาและข้อมูลนี้ สามารถป้องกันการเกิด data leakage ได้อย่างไรบ้าง\n",
    "Dataset นี้ทางคนสร้างข้อมูลได้มีการมีแบ่งข้อมูลตัวอย่างเป็น Train และ Test ไว้แล้ว อย่างชัดเจน ทำให้ข้อมูลตัวอย่างใน Train และ Test ไม่มีข้อมูลที่ซ้ำกัน และทำ image processing แยกระหว่างข้อมูล Train และ Test เพื่อป้องกันไม่ให้ model เห็นข้อมูล test set ก่อน"
   ]
  },
  {
   "cell_type": "markdown",
   "metadata": {},
   "source": [
    "### 7. วิเคราะห์ความสำคัญของคุณลักษณะ ตัวไหนควรและไม่ควรใช้ (ถ้าเป็นรูปภาพ ให้วิเคราะห์ลักษณะของรูปที่ควรและไม่ควรใช้)\n",
    "+ ภาพที่ควรใช้\n",
    "\n",
    "    1. ภาพสีที่มองเห็นชัดเจน\n",
    "    \n",
    "    2. ภาพที่มีจุดสี pixel เพื่อวิเคราะห์ แยกความแตกต่างภาพจริงและภาพสังเคราะห์\n",
    "\t\n",
    "+ ภาพที่ไม่ควรใช้ \n",
    "\n",
    "    1. ภาพขาวดำ หรือมี noise มากจนไม่สามารถระบุได้ \n",
    "    \n",
    "    2. ภาพที่ถูกแก้ไขหรือปรับแต่งอย่างหนัก หรือ มีการใช้ฟิลเตอร์หรือเอฟเฟกต์พิเศษ อาจทำให้โมเดลสับสนและไม่สามารถแยกแยะระหว่างภาพจริงและภาพสังเคราะห์ได้\n",
    "    \n",
    "    3. ภาพที่มีวัตถุหรือสิ่งกีดขวางบดบังส่วนที่สำคัญของภาพ อาจทำให้โมเดลไม่สามารถวิเคราะห์ได้อย่างถูกต้อง\n",
    "\t\n"
   ]
  },
  {
   "cell_type": "markdown",
   "metadata": {},
   "source": [
    "### 8. ประเด็นอื่น ๆ ที่เกี่ยวข้องกับข้อมูลของตัวเอง\n",
    "มีการใช้ Pillow (Python Imaging Library) เพื่อตรวจสอบไฟล์เสีย (missing value) ของรูปภาพ"
   ]
  },
  {
   "cell_type": "markdown",
   "metadata": {},
   "source": [
    "### 9. การมีส่วนร่วมของสมาชิกแต่ละคนในกลุ่ม (แต่ละคนทำอะไรบ้าง)\n",
    "\n",
    "+ 6610450960 นันท์นภัส ภูริภัทรพันธุ์ หมู่ 200 (วางแผนการทำงาน, หาข้อมูล)\n",
    "+ 6610450986 พชร พรมแพง หมู่ 200 (วิเคราะห์ข้อมูล, เขียนโค้ด)\n",
    "+ 6610451061 รตนกมล แก้วมาตย์ หมู่ 200 (เรียบเรียงข้อมูล, เขียนโค้ด)\n"
   ]
  },
  {
   "cell_type": "markdown",
   "metadata": {},
   "source": [
    "### 10. การเปิดเผยการใช้เครื่องมือปัญญาประดิษฐ์ (ใช้อะไร ใช้เพื่ออะไร ใช้อย่างไร, prompt อย่างไร)\n",
    "\n",
    "10.1 ChatGPT ใช้เพื่อหาวิธี validate ข้อมูลภาพว่ามีสูญหายหรือไม่สมบรูณ์อย่างไรบ้าง \n",
    "prompt: “How to validation if images in this dataset are completely normal ?”\n",
    "\n",
    "\n",
    "10.2 ChatGPT ใช้เพื่อค้นหา Range ของขนาดรูปภาพใน folder \n",
    "prompt: “Write me a code that find avg, min, max in size of image in bytes”\n"
   ]
  }
 ],
 "metadata": {
  "kernelspec": {
   "display_name": ".venv",
   "language": "python",
   "name": "python3"
  },
  "language_info": {
   "codemirror_mode": {
    "name": "ipython",
    "version": 3
   },
   "file_extension": ".py",
   "mimetype": "text/x-python",
   "name": "python",
   "nbconvert_exporter": "python",
   "pygments_lexer": "ipython3",
   "version": "3.10.11"
  }
 },
 "nbformat": 4,
 "nbformat_minor": 2
}
